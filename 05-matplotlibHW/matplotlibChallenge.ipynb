{
 "cells": [
  {
   "cell_type": "code",
   "execution_count": 1,
   "metadata": {},
   "outputs": [],
   "source": [
    "#matplotlib hw \n",
    "#starting dependencies \n",
    "import matplotlib.pyplot as plt\n",
    "import pandas as pd\n",
    "import scipy.stats as st\n",
    "import seaborn as sns\n",
    "import numpy as np\n",
    "\n",
    "#One observation from this data set is that gender of mice seemed to make no difference\n",
    "#in the treatment of the tumor. \n",
    "\n",
    "#The second observation from this data set is placebo and stelasyn seem to have had\n",
    "#the same effect on the tumor in treatment. \n",
    "\n",
    "#The third observation from this data set is that Ramicane had the greatest in treatment of \n",
    "#tumor volume at final time point. Giving the smallest tumor"
   ]
  },
  {
   "cell_type": "code",
   "execution_count": 2,
   "metadata": {},
   "outputs": [],
   "source": [
    "#bring in the csv files\n",
    "mouse_path = \"csv/Mouse_metadata.csv\"\n",
    "study_path = \"csv/Study_results.csv\"\n",
    "\n",
    "#create df\n",
    "mouse_df = pd.read_csv(mouse_path)\n",
    "study_df = pd.read_csv(study_path)\n",
    "\n",
    "#finding multiples in study data\n",
    "study_df = study_df.drop([137, 360, 620, 815, 950])\n",
    "#merge data now that the drops have been made\n",
    "complete_df = pd.merge(mouse_df, study_df)"
   ]
  },
  {
   "cell_type": "code",
   "execution_count": 3,
   "metadata": {},
   "outputs": [
    {
     "data": {
      "text/html": [
       "<div>\n",
       "<style scoped>\n",
       "    .dataframe tbody tr th:only-of-type {\n",
       "        vertical-align: middle;\n",
       "    }\n",
       "\n",
       "    .dataframe tbody tr th {\n",
       "        vertical-align: top;\n",
       "    }\n",
       "\n",
       "    .dataframe thead th {\n",
       "        text-align: right;\n",
       "    }\n",
       "</style>\n",
       "<table border=\"1\" class=\"dataframe\">\n",
       "  <thead>\n",
       "    <tr style=\"text-align: right;\">\n",
       "      <th></th>\n",
       "      <th>Mouse ID</th>\n",
       "      <th>Drug Regimen</th>\n",
       "      <th>Sex</th>\n",
       "      <th>Age_months</th>\n",
       "      <th>Weight (g)</th>\n",
       "      <th>Timepoint</th>\n",
       "      <th>Tumor Volume (mm3)</th>\n",
       "      <th>Metastatic Sites</th>\n",
       "    </tr>\n",
       "  </thead>\n",
       "  <tbody>\n",
       "    <tr>\n",
       "      <th>0</th>\n",
       "      <td>k403</td>\n",
       "      <td>Ramicane</td>\n",
       "      <td>Male</td>\n",
       "      <td>21</td>\n",
       "      <td>16</td>\n",
       "      <td>0</td>\n",
       "      <td>45.000000</td>\n",
       "      <td>0</td>\n",
       "    </tr>\n",
       "    <tr>\n",
       "      <th>1</th>\n",
       "      <td>k403</td>\n",
       "      <td>Ramicane</td>\n",
       "      <td>Male</td>\n",
       "      <td>21</td>\n",
       "      <td>16</td>\n",
       "      <td>5</td>\n",
       "      <td>38.825898</td>\n",
       "      <td>0</td>\n",
       "    </tr>\n",
       "    <tr>\n",
       "      <th>2</th>\n",
       "      <td>k403</td>\n",
       "      <td>Ramicane</td>\n",
       "      <td>Male</td>\n",
       "      <td>21</td>\n",
       "      <td>16</td>\n",
       "      <td>10</td>\n",
       "      <td>35.014271</td>\n",
       "      <td>1</td>\n",
       "    </tr>\n",
       "    <tr>\n",
       "      <th>3</th>\n",
       "      <td>k403</td>\n",
       "      <td>Ramicane</td>\n",
       "      <td>Male</td>\n",
       "      <td>21</td>\n",
       "      <td>16</td>\n",
       "      <td>15</td>\n",
       "      <td>34.223992</td>\n",
       "      <td>1</td>\n",
       "    </tr>\n",
       "    <tr>\n",
       "      <th>4</th>\n",
       "      <td>k403</td>\n",
       "      <td>Ramicane</td>\n",
       "      <td>Male</td>\n",
       "      <td>21</td>\n",
       "      <td>16</td>\n",
       "      <td>20</td>\n",
       "      <td>32.997729</td>\n",
       "      <td>1</td>\n",
       "    </tr>\n",
       "  </tbody>\n",
       "</table>\n",
       "</div>"
      ],
      "text/plain": [
       "  Mouse ID Drug Regimen   Sex  Age_months  Weight (g)  Timepoint  \\\n",
       "0     k403     Ramicane  Male          21          16          0   \n",
       "1     k403     Ramicane  Male          21          16          5   \n",
       "2     k403     Ramicane  Male          21          16         10   \n",
       "3     k403     Ramicane  Male          21          16         15   \n",
       "4     k403     Ramicane  Male          21          16         20   \n",
       "\n",
       "   Tumor Volume (mm3)  Metastatic Sites  \n",
       "0           45.000000                 0  \n",
       "1           38.825898                 0  \n",
       "2           35.014271                 1  \n",
       "3           34.223992                 1  \n",
       "4           32.997729                 1  "
      ]
     },
     "execution_count": 3,
     "metadata": {},
     "output_type": "execute_result"
    }
   ],
   "source": [
    "#display preview \n",
    "complete_df.head()"
   ]
  },
  {
   "cell_type": "code",
   "execution_count": 4,
   "metadata": {},
   "outputs": [
    {
     "data": {
      "text/plain": [
       "Capomulin    230\n",
       "Ramicane     228\n",
       "Ketapril     188\n",
       "Naftisol     186\n",
       "Zoniferol    182\n",
       "Placebo      181\n",
       "Stelasyn     181\n",
       "Infubinol    178\n",
       "Ceftamin     178\n",
       "Propriva     156\n",
       "Name: Drug Regimen, dtype: int64"
      ]
     },
     "execution_count": 4,
     "metadata": {},
     "output_type": "execute_result"
    }
   ],
   "source": [
    "#creating summary statistics for each drug regimen \n",
    "complete_df['Drug Regimen'].value_counts()"
   ]
  },
  {
   "cell_type": "code",
   "execution_count": 5,
   "metadata": {},
   "outputs": [],
   "source": [
    "#creating df by drug regimen\n",
    "capomulin_df = complete_df.loc[complete_df['Drug Regimen']=='Capomulin']\n",
    "\n",
    "ramicane_df = complete_df.loc[complete_df['Drug Regimen']=='Ramicane']\n",
    "\n",
    "ketapril_df = complete_df.loc[complete_df['Drug Regimen']=='Ketapril']\n",
    "\n",
    "naftisol_df = complete_df.loc[complete_df['Drug Regimen']=='Naftisol']\n",
    "\n",
    "zoniferol_df = complete_df.loc[complete_df['Drug Regimen']=='Zoniferol']\n",
    "\n",
    "stelasyn_df = complete_df.loc[complete_df['Drug Regimen']=='Stelasyn']\n",
    "\n",
    "placebo_df = complete_df.loc[complete_df['Drug Regimen']=='Placebo']\n",
    "\n",
    "ceftamin_df = complete_df.loc[complete_df['Drug Regimen']=='Ceftamin']\n",
    "\n",
    "infubinol_df = complete_df.loc[complete_df['Drug Regimen']=='Infubinol']\n",
    "\n",
    "propriva_df = complete_df.loc[complete_df['Drug Regimen']=='Propriva']"
   ]
  },
  {
   "cell_type": "code",
   "execution_count": 6,
   "metadata": {},
   "outputs": [
    {
     "data": {
      "text/plain": [
       "count    230.000000\n",
       "mean      40.675741\n",
       "std        4.994774\n",
       "min       23.343598\n",
       "25%       37.685933\n",
       "50%       41.557809\n",
       "75%       45.000000\n",
       "max       48.158209\n",
       "Name: Tumor Volume (mm3), dtype: float64"
      ]
     },
     "execution_count": 6,
     "metadata": {},
     "output_type": "execute_result"
    }
   ],
   "source": [
    "#getting info \n",
    "capomulin_df['Tumor Volume (mm3)'].describe()"
   ]
  },
  {
   "cell_type": "code",
   "execution_count": 7,
   "metadata": {},
   "outputs": [
    {
     "data": {
      "text/plain": [
       "count    228.000000\n",
       "mean      40.216745\n",
       "std        4.846308\n",
       "min       22.050126\n",
       "25%       36.674635\n",
       "50%       40.673236\n",
       "75%       45.000000\n",
       "max       47.622816\n",
       "Name: Tumor Volume (mm3), dtype: float64"
      ]
     },
     "execution_count": 7,
     "metadata": {},
     "output_type": "execute_result"
    }
   ],
   "source": [
    "ramicane_df['Tumor Volume (mm3)'].describe()"
   ]
  },
  {
   "cell_type": "code",
   "execution_count": 8,
   "metadata": {},
   "outputs": [
    {
     "data": {
      "text/plain": [
       "count    188.000000\n",
       "mean      55.235638\n",
       "std        8.279709\n",
       "min       45.000000\n",
       "25%       48.232987\n",
       "50%       53.698743\n",
       "75%       60.870951\n",
       "max       78.567014\n",
       "Name: Tumor Volume (mm3), dtype: float64"
      ]
     },
     "execution_count": 8,
     "metadata": {},
     "output_type": "execute_result"
    }
   ],
   "source": [
    "ketapril_df['Tumor Volume (mm3)'].describe() "
   ]
  },
  {
   "cell_type": "code",
   "execution_count": 9,
   "metadata": {},
   "outputs": [
    {
     "data": {
      "text/plain": [
       "count    186.000000\n",
       "mean      54.331565\n",
       "std        8.134708\n",
       "min       45.000000\n",
       "25%       47.285874\n",
       "50%       52.509285\n",
       "75%       59.963034\n",
       "max       76.668817\n",
       "Name: Tumor Volume (mm3), dtype: float64"
      ]
     },
     "execution_count": 9,
     "metadata": {},
     "output_type": "execute_result"
    }
   ],
   "source": [
    "naftisol_df['Tumor Volume (mm3)'].describe()"
   ]
  },
  {
   "cell_type": "code",
   "execution_count": 10,
   "metadata": {},
   "outputs": [
    {
     "data": {
      "text/plain": [
       "count    182.000000\n",
       "mean      53.236507\n",
       "std        6.966589\n",
       "min       45.000000\n",
       "25%       47.337876\n",
       "50%       51.818479\n",
       "75%       57.954259\n",
       "max       73.324432\n",
       "Name: Tumor Volume (mm3), dtype: float64"
      ]
     },
     "execution_count": 10,
     "metadata": {},
     "output_type": "execute_result"
    }
   ],
   "source": [
    "zoniferol_df['Tumor Volume (mm3)'].describe()"
   ]
  },
  {
   "cell_type": "code",
   "execution_count": 11,
   "metadata": {},
   "outputs": [
    {
     "data": {
      "text/plain": [
       "count    181.000000\n",
       "mean      54.233149\n",
       "std        7.710419\n",
       "min       45.000000\n",
       "25%       48.047139\n",
       "50%       52.431737\n",
       "75%       58.719297\n",
       "max       75.123690\n",
       "Name: Tumor Volume (mm3), dtype: float64"
      ]
     },
     "execution_count": 11,
     "metadata": {},
     "output_type": "execute_result"
    }
   ],
   "source": [
    "stelasyn_df['Tumor Volume (mm3)'].describe()"
   ]
  },
  {
   "cell_type": "code",
   "execution_count": 12,
   "metadata": {},
   "outputs": [
    {
     "data": {
      "text/plain": [
       "count    181.000000\n",
       "mean      54.033581\n",
       "std        7.821003\n",
       "min       45.000000\n",
       "25%       47.459053\n",
       "50%       52.288934\n",
       "75%       59.916934\n",
       "max       73.212939\n",
       "Name: Tumor Volume (mm3), dtype: float64"
      ]
     },
     "execution_count": 12,
     "metadata": {},
     "output_type": "execute_result"
    }
   ],
   "source": [
    "placebo_df['Tumor Volume (mm3)'].describe()"
   ]
  },
  {
   "cell_type": "code",
   "execution_count": 13,
   "metadata": {},
   "outputs": [
    {
     "data": {
      "text/plain": [
       "count    178.000000\n",
       "mean      52.591172\n",
       "std        6.268188\n",
       "min       45.000000\n",
       "25%       47.208427\n",
       "50%       51.776157\n",
       "75%       56.801438\n",
       "max       68.923185\n",
       "Name: Tumor Volume (mm3), dtype: float64"
      ]
     },
     "execution_count": 13,
     "metadata": {},
     "output_type": "execute_result"
    }
   ],
   "source": [
    "ceftamin_df['Tumor Volume (mm3)'].describe()"
   ]
  },
  {
   "cell_type": "code",
   "execution_count": 14,
   "metadata": {},
   "outputs": [
    {
     "data": {
      "text/plain": [
       "count    178.000000\n",
       "mean      52.884795\n",
       "std        6.567243\n",
       "min       36.321346\n",
       "25%       47.312353\n",
       "50%       51.820584\n",
       "75%       57.314444\n",
       "max       72.226731\n",
       "Name: Tumor Volume (mm3), dtype: float64"
      ]
     },
     "execution_count": 14,
     "metadata": {},
     "output_type": "execute_result"
    }
   ],
   "source": [
    "infubinol_df['Tumor Volume (mm3)'].describe()"
   ]
  },
  {
   "cell_type": "code",
   "execution_count": 15,
   "metadata": {},
   "outputs": [
    {
     "data": {
      "text/plain": [
       "count    156.000000\n",
       "mean      52.390791\n",
       "std        6.569182\n",
       "min       45.000000\n",
       "25%       47.046068\n",
       "50%       50.783528\n",
       "75%       56.491585\n",
       "max       72.455421\n",
       "Name: Tumor Volume (mm3), dtype: float64"
      ]
     },
     "execution_count": 15,
     "metadata": {},
     "output_type": "execute_result"
    }
   ],
   "source": [
    "propriva_df['Tumor Volume (mm3)'].describe()"
   ]
  },
  {
   "cell_type": "code",
   "execution_count": 27,
   "metadata": {},
   "outputs": [
    {
     "data": {
      "text/plain": [
       "<matplotlib.axes._subplots.AxesSubplot at 0x7fa31d58ea90>"
      ]
     },
     "execution_count": 27,
     "metadata": {},
     "output_type": "execute_result"
    },
    {
     "data": {
      "image/png": "[encoded data removed]",
      "text/plain": [
       "<Figure size 720x360 with 1 Axes>"
      ]
     },
     "metadata": {
      "needs_background": "light"
     },
     "output_type": "display_data"
    }
   ],
   "source": [
    "#generate a bar plot using dataframe.plot that shows total mice for each regimen\n",
    "\n",
    "drug_df = complete_df['Drug Regimen'].value_counts()\n",
    "\n",
    "regimen_df = pd.DataFrame({'Total Mice': drug_df},\n",
    "                         index=['Capomulin','Ramicane', 'Ketapril', 'Naftisol',\n",
    "                               'Zoniferol', 'Stelasyn','Placebo', 'Infubinol',\n",
    "                               'Ceftamin','Propriva'])\n",
    "regimen_df.plot.bar(y='Total Mice', figsize=(10,5))"
   ]
  },
  {
   "cell_type": "code",
   "execution_count": 26,
   "metadata": {},
   "outputs": [
    {
     "data": {
      "text/plain": [
       "<matplotlib.legend.Legend at 0x7fa31d405dd0>"
      ]
     },
     "execution_count": 26,
     "metadata": {},
     "output_type": "execute_result"
    },
    {
     "data": {
      "image/png": "[encoded data removed]",
      "text/plain": [
       "<Figure size 720x360 with 1 Axes>"
      ]
     },
     "metadata": {
      "needs_background": "light"
     },
     "output_type": "display_data"
    }
   ],
   "source": [
    "#generate a bar plot using pyplot that shows total mice for each regimen\n",
    "number_of_mice= regimen_df['Total Mice'].sum()\n",
    "drugs = ['Capomulin','Ramicane', 'Ketapril', 'Naftisol',\n",
    "                               'Zoniferol', 'Stelasyn','Placebo', 'Infubinol',\n",
    "                               'Ceftamin','Propriva']\n",
    "mice = [230, 228, 188, 186, 182, 181, 181, 178, 178, 156]\n",
    "fig = plt.figure(figsize= (10, 5))\n",
    "plt.bar(drugs, mice, color = 'blue', width = 0.5)\n",
    "\n",
    "plt.xlabel(\"Drug Regimen\")\n",
    "plt.ylabel(\"Number of Mice\")\n",
    "plt.title(\"Number of Mice on each Drug\")\n",
    "plt.legend(mice,loc =\"upper right\")\n"
   ]
  },
  {
   "cell_type": "code",
   "execution_count": 28,
   "metadata": {},
   "outputs": [
    {
     "data": {
      "text/plain": [
       "<matplotlib.axes._subplots.AxesSubplot at 0x7fa31d6c8c90>"
      ]
     },
     "execution_count": 28,
     "metadata": {},
     "output_type": "execute_result"
    },
    {
     "data": {
      "image/png": "[encoded data removed]",
      "text/plain": [
       "<Figure size 360x360 with 1 Axes>"
      ]
     },
     "metadata": {},
     "output_type": "display_data"
    }
   ],
   "source": [
    "#generate a pie chart using dataframe.plot that shows male and female mice in the study\n",
    "male_df = complete_df.loc[complete_df['Sex']=='Male']\n",
    "total_male = male_df['Sex'].count()\n",
    "\n",
    "female_df = complete_df.loc[complete_df['Sex']=='Female']\n",
    "total_female = female_df['Sex'].count()\n",
    "\n",
    "sex_df = pd.DataFrame({'Sex': [total_male, total_female]},\n",
    "                      index = ['Male','Female'])\n",
    "                      \n",
    "sex_df.plot.pie(y='Sex', figsize=(5,5))"
   ]
  },
  {
   "cell_type": "code",
   "execution_count": 29,
   "metadata": {},
   "outputs": [
    {
     "data": {
      "image/png": "[encoded data removed]",
      "text/plain": [
       "<Figure size 360x360 with 1 Axes>"
      ]
     },
     "metadata": {},
     "output_type": "display_data"
    }
   ],
   "source": [
    "#generate a pie chart using pyplot that shows male and female mice in the study \n",
    "fig = plt.figure(figsize= (5,5))\n",
    "\n",
    "sex = ['Male', 'Female']\n",
    "mice_s = [958, 930]\n",
    "plt.pie(mice_s, labels = sex)\n",
    "plt.title(\"Male vs Female Mice\")\n",
    "plt.legend(sex, loc = \"upper right\")\n",
    "plt.ylabel('Sex')\n",
    "plt.show()"
   ]
  },
  {
   "cell_type": "code",
   "execution_count": 39,
   "metadata": {},
   "outputs": [],
   "source": [
    "#calculate the final tumor value across capomulin, ramicane, infubinol, ceftamin\n",
    "cap_max = capomulin_df['Tumor Volume (mm3)'].min()\n",
    "\n",
    "ram_max = ramicane_df['Tumor Volume (mm3)'].min()\n",
    "\n",
    "inf_max = infubinol_df['Tumor Volume (mm3)'].min()\n",
    "\n",
    "ceft_max = ceftamin_df['Tumor Volume (mm3)'].min()\n",
    "\n",
    "#not sure on the instructions on this part? for each mouse id?\n",
    "\n",
    "#calculate the quartiles and IQR and quantitavely determine if there are any potential\n",
    "#outliers across all four treatment regimens\n"
   ]
  },
  {
   "cell_type": "code",
   "execution_count": null,
   "metadata": {},
   "outputs": [],
   "source": []
  },
  {
   "cell_type": "code",
   "execution_count": null,
   "metadata": {},
   "outputs": [],
   "source": [
    "#using matplotlib generate a box and a whisker plot of values from above\n",
    "#highlight and potential outliers by changing their colors "
   ]
  },
  {
   "cell_type": "code",
   "execution_count": null,
   "metadata": {},
   "outputs": [],
   "source": [
    "#select a mouseID treated with Capomulin and generate line plot of time point vs tumor vol"
   ]
  },
  {
   "cell_type": "code",
   "execution_count": null,
   "metadata": {},
   "outputs": [],
   "source": [
    "#generate scatter plot of mouse wieght vs average tumor volume for capomulin treatment"
   ]
  },
  {
   "cell_type": "code",
   "execution_count": null,
   "metadata": {},
   "outputs": [],
   "source": []
  }
 ],
 "metadata": {
  "kernelspec": {
   "display_name": "Python 3",
   "language": "python",
   "name": "python3"
  },
  "language_info": {
   "codemirror_mode": {
    "name": "ipython",
    "version": 3
   },
   "file_extension": ".py",
   "mimetype": "text/x-python",
   "name": "python",
   "nbconvert_exporter": "python",
   "pygments_lexer": "ipython3",
   "version": "3.7.6"
  }
 },
 "nbformat": 4,
 "nbformat_minor": 4
}
